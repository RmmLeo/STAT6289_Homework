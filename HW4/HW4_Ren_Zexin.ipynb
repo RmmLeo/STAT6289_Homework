{
 "cells": [
  {
   "cell_type": "markdown",
   "metadata": {},
   "source": [
    "# Stat-6289 Homework4_Zexin_Ren\n",
    "\n",
    "Github Link: https://github.com/RmmLeo/STAT6289_Homework/tree/main/HW4\n",
    "\n",
    "Reference: Document of Pymagnitude: https://github.com/plasticityai/magnitude"
   ]
  },
  {
   "cell_type": "markdown",
   "metadata": {},
   "source": [
    "## Step 0: Import the package and load the data"
   ]
  },
  {
   "cell_type": "code",
   "execution_count": 1,
   "metadata": {},
   "outputs": [],
   "source": [
    "from pymagnitude import *\n",
    "file_path='GoogleNews-vectors-negative300.magnitude'\n",
    "vectors=Magnitude(file_path)"
   ]
  },
  {
   "cell_type": "markdown",
   "metadata": {},
   "source": [
    "## Question 1: The dimensionality of these word embeddings:\n",
    "\n",
    "Use .dim attribute.\n",
    "\n",
    "By document:\n",
    "\n",
    "You can query the dimensions of the vectors like so:\n",
    "\n",
    "vectors.dim"
   ]
  },
  {
   "cell_type": "code",
   "execution_count": 13,
   "metadata": {},
   "outputs": [
    {
     "name": "stdout",
     "output_type": "stream",
     "text": [
      "The dimensionality of these word embeddings is 300\n"
     ]
    }
   ],
   "source": [
    "dim=vectors.dim\n",
    "print(f'The dimensionality of these word embeddings is {dim}')"
   ]
  },
  {
   "cell_type": "markdown",
   "metadata": {},
   "source": [
    "## Question 2: What are the top-5 most similar words to picnic\n",
    "\n",
    "Use .most_similar() method to find these similar words.\n",
    "\n",
    "By Document:\n",
    "\n",
    "You can query for the most similar (nearest neighbors) keys like so:\n",
    "\n",
    "vectors.most_similar(\"cat\", topn = 100) # Most similar by key"
   ]
  },
  {
   "cell_type": "code",
   "execution_count": 7,
   "metadata": {},
   "outputs": [
    {
     "name": "stdout",
     "output_type": "stream",
     "text": [
      "The top 0 similar word is: picnics\n",
      "The top 1 similar word is: picnic_lunch\n",
      "The top 2 similar word is: Picnic\n",
      "The top 3 similar word is: potluck_picnic\n",
      "The top 4 similar word is: picnic_supper\n"
     ]
    }
   ],
   "source": [
    "most_simi=vectors.most_similar(\"picnic\",topn=5)\n",
    "for i in range(5):\n",
    "    print(f'The top {i} similar word is: {most_simi[i][0]}')"
   ]
  },
  {
   "cell_type": "markdown",
   "metadata": {},
   "source": [
    "## Question 3: Which word is not like the others.\n",
    "\n",
    "Use .doesnt_match() method.\n",
    "\n",
    "By document: \n",
    "\n",
    "'\n",
    "You can query for which key doesn't match a list of keys to a given key like so:\n",
    "\n",
    "vectors.doesnt_match([\"breakfast\", \"cereal\", \"dinner\", \"lunch\"]) # cereal\n",
    "'"
   ]
  },
  {
   "cell_type": "code",
   "execution_count": 11,
   "metadata": {},
   "outputs": [
    {
     "name": "stdout",
     "output_type": "stream",
     "text": [
      "The word 'tissue' is not like the others\n"
     ]
    }
   ],
   "source": [
    "word_list= ['tissue', 'papyrus','manila', 'newsprint', 'parchment', 'gazette']\n",
    "not_like_word=vectors.doesnt_match(word_list)\n",
    "print(f'The word \\'{not_like_word}\\' is not like the others')"
   ]
  },
  {
   "cell_type": "markdown",
   "metadata": {},
   "source": [
    "## Question 4: Solve the following analogy: leg is to jump as X is to throw\n",
    "\n",
    "By document:\n",
    "\n",
    "'You can also query for the most similar keys giving positive and negative examples (which, incidentally, solves analogies) like so: \n",
    "\n",
    "vectors.most_similar(positive = [\"woman\", \"king\"], negative = [\"man\"]) # queen\n",
    "'\n",
    "\n",
    "So put word throw and jump at positive and negative respectively, leg also at positive, we will have the solution."
   ]
  },
  {
   "cell_type": "code",
   "execution_count": 6,
   "metadata": {},
   "outputs": [
    {
     "name": "stdout",
     "output_type": "stream",
     "text": [
      "[('forearm', 0.48294652), ('shin', 0.47376165), ('elbow', 0.4679689), ('metacarpal_bone', 0.46781474), ('metacarpal_bones', 0.46605822), ('ankle', 0.46434426), ('shoulder', 0.46183354), ('thigh', 0.45393682), ('knee', 0.4455707), ('ulna_bone', 0.4423491)]\n",
      "The answer of this analogy is 'forearm' \n"
     ]
    }
   ],
   "source": [
    "analogy=vectors.most_similar(positive = [\"leg\",\"throw\"], negative = [\"jump\"])\n",
    "print(analogy)\n",
    "print(f'The answer of this analogy is \\'{analogy[0][0]}\\' ')"
   ]
  }
 ],
 "metadata": {
  "interpreter": {
   "hash": "4aa083d928abac1bb4c2de21863d23e101a74b57ce6d7b6a3a0a67f44f67e603"
  },
  "kernelspec": {
   "display_name": "Python 3.9.10 ('Leo')",
   "language": "python",
   "name": "python3"
  },
  "language_info": {
   "codemirror_mode": {
    "name": "ipython",
    "version": 3
   },
   "file_extension": ".py",
   "mimetype": "text/x-python",
   "name": "python",
   "nbconvert_exporter": "python",
   "pygments_lexer": "ipython3",
   "version": "3.9.12"
  },
  "orig_nbformat": 4
 },
 "nbformat": 4,
 "nbformat_minor": 2
}
